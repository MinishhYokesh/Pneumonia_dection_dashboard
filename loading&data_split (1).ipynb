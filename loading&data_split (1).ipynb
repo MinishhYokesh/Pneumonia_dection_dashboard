{
  "nbformat": 4,
  "nbformat_minor": 0,
  "metadata": {
    "colab": {
      "provenance": []
    },
    "kernelspec": {
      "name": "python3",
      "display_name": "Python 3"
    },
    "language_info": {
      "name": "python"
    }
  },
  "cells": [
    {
      "cell_type": "code",
      "execution_count": null,
      "metadata": {
        "id": "3SZb6E4o6_HW"
      },
      "outputs": [],
      "source": [
        "# download the kaggle json file and save into root/.kaggle/ dir\n",
        "!kaggle datasets download -d paultimothymooney/chest-xray-pneumonia"
      ]
    },
    {
      "cell_type": "code",
      "source": [
        "!unzip chest-xray-pneumonia.zip"
      ],
      "metadata": {
        "id": "1mIOPFdB7Cc8"
      },
      "execution_count": null,
      "outputs": []
    },
    {
      "cell_type": "code",
      "source": [
        "import os\n",
        "import shutil\n",
        "\n",
        "def categorize_images(source_folders, bacteria_folder, virus_folder):\n",
        "    # Create destination folders if they don't exist\n",
        "    if not os.path.exists(bacteria_folder):\n",
        "        os.makedirs(bacteria_folder)\n",
        "    if not os.path.exists(virus_folder):\n",
        "        os.makedirs(virus_folder)\n",
        "\n",
        "    # Iterate through each source folder\n",
        "    for source_folder in source_folders:\n",
        "        # Iterate through files in the source folder\n",
        "        for filename in os.listdir(source_folder):\n",
        "            source_path = os.path.join(source_folder, filename)\n",
        "            if os.path.isfile(source_path):\n",
        "                if \"bacteria\" in filename:\n",
        "                    # Move to bacteria folder\n",
        "                    dest_path = os.path.join(bacteria_folder, filename)\n",
        "                    shutil.copy(source_path, dest_path)\n",
        "                elif \"virus\" in filename:\n",
        "                    # Move to virus folder\n",
        "                    dest_path = os.path.join(virus_folder, filename)\n",
        "                    shutil.copy(source_path, dest_path)\n",
        "\n",
        "# Example usage\n",
        "source_folders = [\"/content/chest_xray/chest_xray/train/PNEUMONIA\", \"/content/chest_xray/chest_xray/test/PNEUMONIA\", \"/content/chest_xray/chest_xray/val/PNEUMONIA\"]\n",
        "bacteria_folder = \"Database/bacteria/\"\n",
        "virus_folder = \"Database/virus/\"\n",
        "\n",
        "categorize_images(source_folders, bacteria_folder, virus_folder)\n"
      ],
      "metadata": {
        "id": "1GhdOXwS7CZs"
      },
      "execution_count": null,
      "outputs": []
    },
    {
      "cell_type": "code",
      "source": [
        "import os\n",
        "import shutil\n",
        "\n",
        "def combine_folders(source_folders, destination_folder):\n",
        "    # Create destination folder if it doesn't exist\n",
        "    if not os.path.exists(destination_folder):\n",
        "        os.makedirs(destination_folder)\n",
        "\n",
        "    # Iterate through each source folder\n",
        "    for source_folder in source_folders:\n",
        "        # Iterate through files in the source folder\n",
        "        for filename in os.listdir(source_folder):\n",
        "            source_path = os.path.join(source_folder, filename)\n",
        "            if os.path.isfile(source_path):\n",
        "                # Copy file to destination folder\n",
        "                dest_path = os.path.join(destination_folder, filename)\n",
        "                shutil.copy(source_path, dest_path)\n",
        "\n",
        "# Example usage\n",
        "source_folders = [\"/content/chest_xray/chest_xray/train/NORMAL\", \"/content/chest_xray/chest_xray/test/NORMAL\", \"/content/chest_xray/chest_xray/val/NORMAL\"]\n",
        "destination_folder = \"Database/normal\"\n",
        "\n",
        "combine_folders(source_folders, destination_folder)\n"
      ],
      "metadata": {
        "id": "f97cav6x7CVS"
      },
      "execution_count": null,
      "outputs": []
    },
    {
      "cell_type": "code",
      "source": [],
      "metadata": {
        "id": "IWcJXpUQ7CJf"
      },
      "execution_count": null,
      "outputs": []
    }
  ]
}